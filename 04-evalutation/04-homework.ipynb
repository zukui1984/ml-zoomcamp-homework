{
 "cells": [
  {
   "cell_type": "code",
   "execution_count": 17,
   "id": "b9ab653f-67b8-4e07-b86d-ba14dd56dc85",
   "metadata": {},
   "outputs": [
    {
     "data": {
      "text/html": [
       "<div>\n",
       "<style scoped>\n",
       "    .dataframe tbody tr th:only-of-type {\n",
       "        vertical-align: middle;\n",
       "    }\n",
       "\n",
       "    .dataframe tbody tr th {\n",
       "        vertical-align: top;\n",
       "    }\n",
       "\n",
       "    .dataframe thead th {\n",
       "        text-align: right;\n",
       "    }\n",
       "</style>\n",
       "<table border=\"1\" class=\"dataframe\">\n",
       "  <thead>\n",
       "    <tr style=\"text-align: right;\">\n",
       "      <th></th>\n",
       "      <th>lead_source</th>\n",
       "      <th>industry</th>\n",
       "      <th>number_of_courses_viewed</th>\n",
       "      <th>annual_income</th>\n",
       "      <th>employment_status</th>\n",
       "      <th>location</th>\n",
       "      <th>interaction_count</th>\n",
       "      <th>lead_score</th>\n",
       "      <th>converted</th>\n",
       "    </tr>\n",
       "  </thead>\n",
       "  <tbody>\n",
       "    <tr>\n",
       "      <th>0</th>\n",
       "      <td>paid_ads</td>\n",
       "      <td>NaN</td>\n",
       "      <td>1</td>\n",
       "      <td>79450.0</td>\n",
       "      <td>unemployed</td>\n",
       "      <td>south_america</td>\n",
       "      <td>4</td>\n",
       "      <td>0.94</td>\n",
       "      <td>1</td>\n",
       "    </tr>\n",
       "    <tr>\n",
       "      <th>1</th>\n",
       "      <td>social_media</td>\n",
       "      <td>retail</td>\n",
       "      <td>1</td>\n",
       "      <td>46992.0</td>\n",
       "      <td>employed</td>\n",
       "      <td>south_america</td>\n",
       "      <td>1</td>\n",
       "      <td>0.80</td>\n",
       "      <td>0</td>\n",
       "    </tr>\n",
       "    <tr>\n",
       "      <th>2</th>\n",
       "      <td>events</td>\n",
       "      <td>healthcare</td>\n",
       "      <td>5</td>\n",
       "      <td>78796.0</td>\n",
       "      <td>unemployed</td>\n",
       "      <td>australia</td>\n",
       "      <td>3</td>\n",
       "      <td>0.69</td>\n",
       "      <td>1</td>\n",
       "    </tr>\n",
       "    <tr>\n",
       "      <th>3</th>\n",
       "      <td>paid_ads</td>\n",
       "      <td>retail</td>\n",
       "      <td>2</td>\n",
       "      <td>83843.0</td>\n",
       "      <td>NaN</td>\n",
       "      <td>australia</td>\n",
       "      <td>1</td>\n",
       "      <td>0.87</td>\n",
       "      <td>0</td>\n",
       "    </tr>\n",
       "    <tr>\n",
       "      <th>4</th>\n",
       "      <td>referral</td>\n",
       "      <td>education</td>\n",
       "      <td>3</td>\n",
       "      <td>85012.0</td>\n",
       "      <td>self_employed</td>\n",
       "      <td>europe</td>\n",
       "      <td>3</td>\n",
       "      <td>0.62</td>\n",
       "      <td>1</td>\n",
       "    </tr>\n",
       "  </tbody>\n",
       "</table>\n",
       "</div>"
      ],
      "text/plain": [
       "    lead_source    industry  number_of_courses_viewed  annual_income  \\\n",
       "0      paid_ads         NaN                         1        79450.0   \n",
       "1  social_media      retail                         1        46992.0   \n",
       "2        events  healthcare                         5        78796.0   \n",
       "3      paid_ads      retail                         2        83843.0   \n",
       "4      referral   education                         3        85012.0   \n",
       "\n",
       "  employment_status       location  interaction_count  lead_score  converted  \n",
       "0        unemployed  south_america                  4        0.94          1  \n",
       "1          employed  south_america                  1        0.80          0  \n",
       "2        unemployed      australia                  3        0.69          1  \n",
       "3               NaN      australia                  1        0.87          0  \n",
       "4     self_employed         europe                  3        0.62          1  "
      ]
     },
     "execution_count": 17,
     "metadata": {},
     "output_type": "execute_result"
    }
   ],
   "source": [
    "import pandas as pd\n",
    "import numpy as np\n",
    "import matplotlib.pyplot as plt\n",
    "from sklearn.model_selection import train_test_split, KFold\n",
    "from sklearn.feature_extraction import DictVectorizer\n",
    "from sklearn.linear_model import LogisticRegression\n",
    "from sklearn.metrics import roc_auc_score, accuracy_score\n",
    "\n",
    "df = pd.read_csv('https://raw.githubusercontent.com/alexeygrigorev/datasets/master/course_lead_scoring.csv')\n",
    "df.head()"
   ]
  },
  {
   "cell_type": "markdown",
   "id": "3d021cf7-95ba-4c9d-ba30-5f4c61356d09",
   "metadata": {},
   "source": [
    "#### Data Preparation"
   ]
  },
  {
   "cell_type": "code",
   "execution_count": 18,
   "id": "16551425-ee87-4de8-bccd-db11258bc82b",
   "metadata": {},
   "outputs": [],
   "source": [
    "# Fill missing values\n",
    "# For categorical features, replace with 'NA'\n",
    "categorical = ['lead_source', 'industry', 'employment_status', 'location']\n",
    "for col in categorical:\n",
    "    df[col] = df[col].fillna('NA')\n",
    "\n",
    "# For numerical features, replace with 0.0\n",
    "numerical = ['number_of_courses_viewed', 'annual_income', 'interaction_count', 'lead_score']\n",
    "for col in numerical:\n",
    "    df[col] = df[col].fillna(0.0)"
   ]
  },
  {
   "cell_type": "markdown",
   "id": "9d3d7121-f775-409b-b515-52e9170cb777",
   "metadata": {},
   "source": [
    "#### Data Splitting 60/20/20"
   ]
  },
  {
   "cell_type": "code",
   "execution_count": 19,
   "id": "4b047da1-c5f4-407c-8154-759f3b56ea85",
   "metadata": {},
   "outputs": [],
   "source": [
    "# Split - 60/20/20 \n",
    "df_full_train, df_test = train_test_split(df, test_size=0.2, random_state=1)\n",
    "df_train, df_val = train_test_split(df_full_train, test_size=0.25, random_state=1)  # 0.25 * 0.8 = 0.2\n",
    "\n",
    "# Reset indices\n",
    "df_train = df_train.reset_index(drop=True)\n",
    "df_val = df_val.reset_index(drop=True)\n",
    "df_test = df_test.reset_index(drop=True)\n",
    "\n",
    "# Extract target variable\n",
    "y_train = df_train.converted.values\n",
    "y_val = df_val.converted.values\n",
    "y_test = df_test.converted.values"
   ]
  },
  {
   "cell_type": "markdown",
   "id": "c756fa72-4deb-46ff-8738-c252964a4c8f",
   "metadata": {},
   "source": [
    "#### Question 1: ROC AUC feature importance"
   ]
  },
  {
   "cell_type": "code",
   "execution_count": 20,
   "id": "0389cfc0-0a67-4d87-b26a-6743e42eaba8",
   "metadata": {},
   "outputs": [
    {
     "name": "stdout",
     "output_type": "stream",
     "text": [
      "lead_score: 0.614\n",
      "number_of_courses_viewed: 0.764\n",
      "interaction_count: 0.738\n",
      "annual_income: 0.552\n"
     ]
    },
    {
     "data": {
      "text/plain": [
       "'number_of_courses_viewed'"
      ]
     },
     "execution_count": 20,
     "metadata": {},
     "output_type": "execute_result"
    }
   ],
   "source": [
    "# Numerical features\n",
    "numerical_features = ['lead_score', 'number_of_courses_viewed', 'interaction_count', 'annual_income']\n",
    "\n",
    "auc_scores = {}\n",
    "\n",
    "for feature in numerical_features:\n",
    "    # Predictions\n",
    "    predictions = df_train[feature].values\n",
    "    \n",
    "    # AUC\n",
    "    auc = roc_auc_score(y_train, predictions)\n",
    "    \n",
    "    # If AUC < 0.5, invert the feature\n",
    "    if auc < 0.5:\n",
    "        auc = roc_auc_score(y_train, -predictions)\n",
    "        print(f\"{feature}: {auc:.3f} (inverted)\")\n",
    "    else:\n",
    "        print(f\"{feature}: {auc:.3f}\")\n",
    "    \n",
    "    auc_scores[feature] = auc\n",
    "\n",
    "# Find the highest AUC\n",
    "best_feature = max(auc_scores, key=auc_scores.get)\n",
    "best_feature"
   ]
  },
  {
   "cell_type": "markdown",
   "id": "25a9d68b-6cda-4b58-abff-252e983121f8",
   "metadata": {},
   "source": [
    "#### Question 2: Training the model "
   ]
  },
  {
   "cell_type": "code",
   "execution_count": 21,
   "id": "c90bce51-6643-4b5b-ba5f-e9044a0b4e54",
   "metadata": {},
   "outputs": [
    {
     "name": "stdout",
     "output_type": "stream",
     "text": [
      "AUC: 0.877\n"
     ]
    }
   ],
   "source": [
    "# Training & validation data\n",
    "dv = DictVectorizer(sparse=False)\n",
    "X_train_dict = df_train.to_dict(orient='records')  # Now works!\n",
    "X_val_dict = df_val.to_dict(orient='records')\n",
    "\n",
    "# One-hot encoding\n",
    "X_train_encoded = dv.fit_transform(X_train_dict)\n",
    "X_val_encoded = dv.transform(X_val_dict)\n",
    "\n",
    "# Train model\n",
    "model = LogisticRegression(solver='liblinear', C=1.0, max_iter=1000)\n",
    "model.fit(X_train_encoded, y_train)\n",
    "\n",
    "# Predictions\n",
    "y_val_pred = model.predict_proba(X_val_encoded)[:, 1]  \n",
    "\n",
    "# AUC\n",
    "auc_val = roc_auc_score(y_val, y_val_pred)\n",
    "print(f\"AUC: {auc_val:.3f}\")"
   ]
  },
  {
   "cell_type": "markdown",
   "id": "2ca45066-3ece-4c0c-98d8-4c0226a4bad8",
   "metadata": {},
   "source": [
    "#### Question 3: Precision and Recall"
   ]
  },
  {
   "cell_type": "code",
   "execution_count": 28,
   "id": "3744490e-995b-45aa-bbd3-48f3327e3983",
   "metadata": {},
   "outputs": [
    {
     "data": {
      "text/plain": [
       "np.float64(0.98)"
      ]
     },
     "execution_count": 28,
     "metadata": {},
     "output_type": "execute_result"
    }
   ],
   "source": [
    "def precision_recall_at_threshold(y_true, y_score, t):\n",
    "    # Convert probabilities to binary predictions\n",
    "    y_pred = (y_score >= t).astype(int)\n",
    "\n",
    "    # Confusion matrix components\n",
    "    tp = ((y_pred == 1) & (y_true == 1)).sum()\n",
    "    fp = ((y_pred == 1) & (y_true == 0)).sum()\n",
    "    fn = ((y_pred == 0) & (y_true == 1)).sum()\n",
    "\n",
    "    # Calculate metrix\n",
    "    precision = tp / (tp + fp) if (tp + fp) > 0 else 0.0\n",
    "    recall = tp / (tp + fn) if (tp + fn) > 0 else 0.0\n",
    "    return precision, recall\n",
    "\n",
    "thresholds = np.linspace(0.0, 1.0, 101)\n",
    "precisions = []\n",
    "recalls = []\n",
    "\n",
    "for t in thresholds:\n",
    "    p, r = precision_recall_at_threshold(y_val, y_val_pred, t)  # Now y_val_pred exists!\n",
    "    precisions.append(p)\n",
    "    recalls.append(r)\n",
    "\n",
    "# Find differences\n",
    "differences = [abs(p - r) for p, r in zip(precisions, recalls)]\n",
    "min_idx = np.argmin(differences)\n",
    "intersection_t = thresholds[min_idx]\n",
    "intersection_t"
   ]
  },
  {
   "cell_type": "code",
   "execution_count": 29,
   "id": "88a7b810-fad1-43c1-82ed-68b391404996",
   "metadata": {},
   "outputs": [
    {
     "data": {
      "image/png": "[encoded data removed]",
      "text/plain": [
       "<Figure size 1000x600 with 1 Axes>"
      ]
     },
     "metadata": {},
     "output_type": "display_data"
    }
   ],
   "source": [
    "plt.figure(figsize=(10, 6))\n",
    "plt.plot(precisions, label='Precision', linewidth=2, color='blue')\n",
    "plt.plot(recalls, label='Recall', linewidth=2, color='red')\n",
    "plt.ylabel('Score', fontsize=12)\n",
    "plt.title('Precision and Recall', fontsize=14, fontweight='bold')\n",
    "plt.legend(fontsize=12)\n",
    "plt.grid(True, alpha=0.3)\n",
    "plt.ylim(0, 1)\n",
    "plt.tight_layout()\n",
    "plt.show()"
   ]
  },
  {
   "cell_type": "markdown",
   "id": "8550bdf1-5a66-4a09-ab07-ce06f920c007",
   "metadata": {},
   "source": [
    "#### Question 4: F1 Score"
   ]
  },
  {
   "cell_type": "code",
   "execution_count": 32,
   "id": "64324f5a-d5e3-4119-b611-59068055518e",
   "metadata": {},
   "outputs": [
    {
     "name": "stdout",
     "output_type": "stream",
     "text": [
      "Maximum F1: 0.854\n",
      "Best F1 threshold: 0.580\n"
     ]
    }
   ],
   "source": [
    "f1_scores = []\n",
    "for t in thresholds:\n",
    "    p, r = precision_recall_at_threshold(y_val, y_val_pred, t)\n",
    "    f1 = 2 * p * r / (p + r) if (p + r) > 0 else 0.0\n",
    "    f1_scores.append(f1)\n",
    "\n",
    "max_f1_idx = np.argmax(f1_scores)\n",
    "best_f1_threshold = thresholds[max_f1_idx]\n",
    "max_f1 = f1_scores[max_f1_idx]\n",
    "\n",
    "print(f\"Maximum F1: {max_f1:.3f}\")\n",
    "print(f\"Best F1 threshold: {best_f1_threshold:.3f}\")"
   ]
  },
  {
   "cell_type": "markdown",
   "id": "d1d21361-1d9b-469a-8214-8a5440e9b1a8",
   "metadata": {},
   "source": [
    "#### Question 5: 5-Fold CV"
   ]
  },
  {
   "cell_type": "code",
   "execution_count": 37,
   "id": "b22ba5c9-4cd4-4a0c-96b8-67db09ee767e",
   "metadata": {},
   "outputs": [
    {
     "name": "stdout",
     "output_type": "stream",
     "text": [
      "Mean AUC: 0.822\n",
      "Standard AUC: 0.018\n"
     ]
    }
   ],
   "source": [
    "# Combine train and validation back into full_train\n",
    "df_full_train_combined = pd.concat([df_train, df_val])\n",
    "df_full_train_combined = df_full_train_combined.reset_index(drop=True)\n",
    "y_full_train = np.concatenate([y_train, y_val])\n",
    "\n",
    "# 5-Fold Cross-Validation\n",
    "kfold = KFold(n_splits=5, shuffle=True, random_state=1)\n",
    "\n",
    "auc_scores = []\n",
    "\n",
    "for fold, (train_idx, val_idx) in enumerate(kfold.split(df_full_train_combined)):\n",
    "    # Split data\n",
    "    df_fold_train = df_full_train_combined.iloc[train_idx]\n",
    "    df_fold_val = df_full_train_combined.iloc[val_idx]\n",
    "    \n",
    "    y_fold_train = y_full_train[train_idx]\n",
    "    y_fold_val = y_full_train[val_idx]\n",
    "    \n",
    "    # Prepare and train\n",
    "    train_dict = df_fold_train[categorical + numerical].to_dict(orient='records')\n",
    "    val_dict = df_fold_val[categorical + numerical].to_dict(orient='records')\n",
    "    \n",
    "    dv = DictVectorizer(sparse=False)\n",
    "    X_fold_train = dv.fit_transform(train_dict)\n",
    "    X_fold_val = dv.transform(val_dict)\n",
    "    \n",
    "    model = LogisticRegression(solver='liblinear', C=1.0, max_iter=1000)\n",
    "    model.fit(X_fold_train, y_fold_train)\n",
    "    \n",
    "    y_fold_pred = model.predict_proba(X_fold_val)[:, 1]\n",
    "    auc = roc_auc_score(y_fold_val, y_fold_pred)\n",
    "    \n",
    "    auc_scores.append(auc)\n",
    "    # print(f\"Fold {fold + 1}: AUC = {auc:.3f}\")\n",
    "\n",
    "# Standard & Mean deviation\n",
    "std_auc = np.std(auc_scores)\n",
    "mean_auc = np.mean(auc_scores)\n",
    "\n",
    "print(f\"Mean AUC: {mean_auc:.3f}\")\n",
    "print(f\"Standard AUC: {std_auc:.3f}\")"
   ]
  },
  {
   "cell_type": "markdown",
   "id": "65453256-f735-493f-85e9-9448b4ba5738",
   "metadata": {},
   "source": [
    "#### Question 6: Hyperparameter tuning"
   ]
  },
  {
   "cell_type": "code",
   "execution_count": 27,
   "id": "1114078a-50f7-4de8-bedf-4d3a52578a91",
   "metadata": {},
   "outputs": [
    {
     "name": "stdout",
     "output_type": "stream",
     "text": [
      "C=1e-06: mean=0.562, std=0.043\n",
      "C=0.001: mean=0.926, std=0.014\n",
      "C=1: mean=0.892, std=0.030\n"
     ]
    }
   ],
   "source": [
    "C_values = [0.000001, 0.001, 1]\n",
    "results = {}\n",
    "\n",
    "for C in C_values:\n",
    "    C_scores = []\n",
    "    for train_idx, val_idx in kf.split(df_full_train_combined):\n",
    "        df_fold_train = df_full_train_combined.iloc[train_idx]\n",
    "        df_fold_val = df_full_train_combined.iloc[val_idx]\n",
    "        y_fold_train = y_full[train_idx]\n",
    "        y_fold_val = y_full[val_idx]\n",
    "        \n",
    "        dv_fold = DictVectorizer(sparse=False)\n",
    "        X_fold_train_enc = dv_fold.fit_transform(df_fold_train.to_dict(orient='records'))\n",
    "        X_fold_val_enc = dv_fold.transform(df_fold_val.to_dict(orient='records'))\n",
    "        \n",
    "        model_fold = LogisticRegression(solver='liblinear', C=C, max_iter=1000)\n",
    "        model_fold.fit(X_fold_train_enc, y_fold_train)\n",
    "        \n",
    "        y_fold_pred = model_fold.predict_proba(X_fold_val_enc)[:, 1]\n",
    "        fold_auc = roc_auc_score(y_fold_val, y_fold_pred)\n",
    "        C_scores.append(fold_auc)\n",
    "    \n",
    "    mean_score = np.mean(C_scores)\n",
    "    std_score = np.std(C_scores)\n",
    "    results[C] = {'mean': mean_score, 'std': std_score}\n",
    "    \n",
    "    print(f\"C={C}: mean={mean_score:.3f}, std={std_score:.3f}\")\n",
    "\n",
    "# Find best C: highest mean, then lowest std, then smallest C\n",
    "best_C = None\n",
    "best_mean = -1\n",
    "best_std = float('inf')\n",
    "\n",
    "for C in C_values:\n",
    "    current_mean = results[C]['mean']\n",
    "    current_std = results[C]['std']\n",
    "    \n",
    "    if current_mean > best_mean:\n",
    "        best_C = C\n",
    "        best_mean = current_mean\n",
    "        best_std = current_std\n",
    "    elif current_mean == best_mean:\n",
    "        if current_std < best_std:\n",
    "            best_C = C\n",
    "            best_std = current_std\n",
    "        elif current_std == best_std and C < best_C:\n",
    "            best_C = C"
   ]
  }
 ],
 "metadata": {
  "kernelspec": {
   "display_name": "Python 3 (ipykernel)",
   "language": "python",
   "name": "python3"
  },
  "language_info": {
   "codemirror_mode": {
    "name": "ipython",
    "version": 3
   },
   "file_extension": ".py",
   "mimetype": "text/x-python",
   "name": "python",
   "nbconvert_exporter": "python",
   "pygments_lexer": "ipython3",
   "version": "3.13.2"
  }
 },
 "nbformat": 4,
 "nbformat_minor": 5
}
