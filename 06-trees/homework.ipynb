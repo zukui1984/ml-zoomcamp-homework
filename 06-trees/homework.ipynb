{
 "cells": [
  {
   "cell_type": "code",
   "execution_count": 4,
   "id": "4175bc1e-1cb8-4b22-bf79-b0df7b004a17",
   "metadata": {},
   "outputs": [],
   "source": [
    "import pandas as pd\n",
    "import numpy as np\n",
    "from sklearn.model_selection import train_test_split\n",
    "from sklearn.feature_extraction import DictVectorizer\n",
    "from sklearn.tree import DecisionTreeRegressor\n",
    "import xgboost as xgb"
   ]
  },
  {
   "cell_type": "code",
   "execution_count": 5,
   "id": "260cf181-6742-43e5-8eb2-7c2efbe40b68",
   "metadata": {},
   "outputs": [],
   "source": [
    "df = pd.read_csv('https://raw.githubusercontent.com/alexeygrigorev/datasets/master/car_fuel_efficiency.csv')"
   ]
  },
  {
   "cell_type": "code",
   "execution_count": 6,
   "id": "c917ce8d-7955-4fa4-bf07-c0a80ec36297",
   "metadata": {},
   "outputs": [
    {
     "data": {
      "text/html": [
       "<div>\n",
       "<style scoped>\n",
       "    .dataframe tbody tr th:only-of-type {\n",
       "        vertical-align: middle;\n",
       "    }\n",
       "\n",
       "    .dataframe tbody tr th {\n",
       "        vertical-align: top;\n",
       "    }\n",
       "\n",
       "    .dataframe thead th {\n",
       "        text-align: right;\n",
       "    }\n",
       "</style>\n",
       "<table border=\"1\" class=\"dataframe\">\n",
       "  <thead>\n",
       "    <tr style=\"text-align: right;\">\n",
       "      <th></th>\n",
       "      <th>engine_displacement</th>\n",
       "      <th>num_cylinders</th>\n",
       "      <th>horsepower</th>\n",
       "      <th>vehicle_weight</th>\n",
       "      <th>acceleration</th>\n",
       "      <th>model_year</th>\n",
       "      <th>origin</th>\n",
       "      <th>fuel_type</th>\n",
       "      <th>drivetrain</th>\n",
       "      <th>num_doors</th>\n",
       "      <th>fuel_efficiency_mpg</th>\n",
       "    </tr>\n",
       "  </thead>\n",
       "  <tbody>\n",
       "    <tr>\n",
       "      <th>0</th>\n",
       "      <td>170</td>\n",
       "      <td>3.0</td>\n",
       "      <td>159.0</td>\n",
       "      <td>3413.433759</td>\n",
       "      <td>17.7</td>\n",
       "      <td>2003</td>\n",
       "      <td>Europe</td>\n",
       "      <td>Gasoline</td>\n",
       "      <td>All-wheel drive</td>\n",
       "      <td>0.0</td>\n",
       "      <td>13.231729</td>\n",
       "    </tr>\n",
       "    <tr>\n",
       "      <th>1</th>\n",
       "      <td>130</td>\n",
       "      <td>5.0</td>\n",
       "      <td>97.0</td>\n",
       "      <td>3149.664934</td>\n",
       "      <td>17.8</td>\n",
       "      <td>2007</td>\n",
       "      <td>USA</td>\n",
       "      <td>Gasoline</td>\n",
       "      <td>Front-wheel drive</td>\n",
       "      <td>0.0</td>\n",
       "      <td>13.688217</td>\n",
       "    </tr>\n",
       "    <tr>\n",
       "      <th>2</th>\n",
       "      <td>170</td>\n",
       "      <td>NaN</td>\n",
       "      <td>78.0</td>\n",
       "      <td>3079.038997</td>\n",
       "      <td>15.1</td>\n",
       "      <td>2018</td>\n",
       "      <td>Europe</td>\n",
       "      <td>Gasoline</td>\n",
       "      <td>Front-wheel drive</td>\n",
       "      <td>0.0</td>\n",
       "      <td>14.246341</td>\n",
       "    </tr>\n",
       "    <tr>\n",
       "      <th>3</th>\n",
       "      <td>220</td>\n",
       "      <td>4.0</td>\n",
       "      <td>NaN</td>\n",
       "      <td>2542.392402</td>\n",
       "      <td>20.2</td>\n",
       "      <td>2009</td>\n",
       "      <td>USA</td>\n",
       "      <td>Diesel</td>\n",
       "      <td>All-wheel drive</td>\n",
       "      <td>2.0</td>\n",
       "      <td>16.912736</td>\n",
       "    </tr>\n",
       "    <tr>\n",
       "      <th>4</th>\n",
       "      <td>210</td>\n",
       "      <td>1.0</td>\n",
       "      <td>140.0</td>\n",
       "      <td>3460.870990</td>\n",
       "      <td>14.4</td>\n",
       "      <td>2009</td>\n",
       "      <td>Europe</td>\n",
       "      <td>Gasoline</td>\n",
       "      <td>All-wheel drive</td>\n",
       "      <td>2.0</td>\n",
       "      <td>12.488369</td>\n",
       "    </tr>\n",
       "  </tbody>\n",
       "</table>\n",
       "</div>"
      ],
      "text/plain": [
       "   engine_displacement  num_cylinders  horsepower  vehicle_weight  \\\n",
       "0                  170            3.0       159.0     3413.433759   \n",
       "1                  130            5.0        97.0     3149.664934   \n",
       "2                  170            NaN        78.0     3079.038997   \n",
       "3                  220            4.0         NaN     2542.392402   \n",
       "4                  210            1.0       140.0     3460.870990   \n",
       "\n",
       "   acceleration  model_year  origin fuel_type         drivetrain  num_doors  \\\n",
       "0          17.7        2003  Europe  Gasoline    All-wheel drive        0.0   \n",
       "1          17.8        2007     USA  Gasoline  Front-wheel drive        0.0   \n",
       "2          15.1        2018  Europe  Gasoline  Front-wheel drive        0.0   \n",
       "3          20.2        2009     USA    Diesel    All-wheel drive        2.0   \n",
       "4          14.4        2009  Europe  Gasoline    All-wheel drive        2.0   \n",
       "\n",
       "   fuel_efficiency_mpg  \n",
       "0            13.231729  \n",
       "1            13.688217  \n",
       "2            14.246341  \n",
       "3            16.912736  \n",
       "4            12.488369  "
      ]
     },
     "execution_count": 6,
     "metadata": {},
     "output_type": "execute_result"
    }
   ],
   "source": [
    "df.head()"
   ]
  },
  {
   "cell_type": "markdown",
   "id": "df4b0e25-5cf9-40e7-af1e-2396f3afb635",
   "metadata": {},
   "source": [
    "#### Data Preparation"
   ]
  },
  {
   "cell_type": "code",
   "execution_count": 7,
   "id": "4578c50d-5bb8-44c6-923d-41da3d74fc4c",
   "metadata": {},
   "outputs": [],
   "source": [
    "df = df.fillna(0)\n",
    "\n",
    "y = df['fuel_efficiency_mpg'].values\n",
    "X = df.drop('fuel_efficiency_mpg', axis=1)\n",
    "\n",
    "# Split: 60% train, 40% temp (which becomes 20% val + 20% test)\n",
    "X_train_full, X_temp, y_train_full, y_temp = train_test_split(\n",
    "    X, y, test_size=0.4, random_state=1\n",
    ")\n",
    "\n",
    "# Split into validation and test\n",
    "X_val, X_test, y_val, y_test = train_test_split(\n",
    "    X_temp, y_temp, test_size=0.5, random_state=1\n",
    ")\n",
    "\n",
    "# Convert to dictionaries\n",
    "train_dicts = X_train_full.to_dict(orient='records')\n",
    "val_dicts = X_val.to_dict(orient='records')\n",
    "\n",
    "dv = DictVectorizer(sparse=True)\n",
    "X_train = dv.fit_transform(train_dicts)\n",
    "X_val = dv.transform(val_dicts)"
   ]
  },
  {
   "cell_type": "markdown",
   "id": "9ddc4c2c-a2e9-4d9f-905b-ee188a84fbe5",
   "metadata": {},
   "source": []
  },
  {
   "cell_type": "markdown",
   "id": "f4017f4e-387d-48bb-b5d3-d2bab764ee98",
   "metadata": {},
   "source": [
    "#### Question 1"
   ]
  },
  {
   "cell_type": "code",
   "execution_count": 8,
   "id": "cea1bd58-4192-4a55-82a7-f4483deaa30b",
   "metadata": {},
   "outputs": [
    {
     "name": "stdout",
     "output_type": "stream",
     "text": [
      "Feature used for splitting: vehicle_weight\n"
     ]
    }
   ],
   "source": [
    "dt = DecisionTreeRegressor(max_depth=1, random_state=1)\n",
    "dt.fit(X_train, y_train_full)\n",
    "\n",
    "feature_index = dt.tree_.feature[0]\n",
    "feature_name = dv.feature_names_[feature_index]\n",
    "print(f\"Feature used for splitting: {feature_name}\")"
   ]
  },
  {
   "cell_type": "markdown",
   "id": "9f4b3e0b-0fd4-4044-bc17-5c3a09b0e63d",
   "metadata": {},
   "source": [
    "#### Question 2"
   ]
  },
  {
   "cell_type": "code",
   "execution_count": 9,
   "id": "88797a04-ebcb-43a7-aee7-592f1070bcb6",
   "metadata": {},
   "outputs": [
    {
     "name": "stdout",
     "output_type": "stream",
     "text": [
      "RMSE: 0.46\n"
     ]
    }
   ],
   "source": [
    "rf = RandomForestRegressor(\n",
    "    n_estimators=10,\n",
    "    random_state=1,\n",
    "    n_jobs=-1\n",
    ")\n",
    "rf.fit(X_train, y_train_full)\n",
    "\n",
    "y_pred = rf.predict(X_val)\n",
    "rmse = np.sqrt(mean_squared_error(y_val, y_pred))\n",
    "print(f\"RMSE: {rmse:.2f}\")"
   ]
  },
  {
   "cell_type": "markdown",
   "id": "55b04127-00aa-4363-bc6c-2af8dd3c7df1",
   "metadata": {},
   "source": [
    "#### Question 3"
   ]
  },
  {
   "cell_type": "code",
   "execution_count": 20,
   "id": "79ea6a1f-0270-4765-ae75-62dc5ba678fb",
   "metadata": {},
   "outputs": [
    {
     "name": "stdout",
     "output_type": "stream",
     "text": [
      "n_estimators values:\n",
      "--------------------------------------------------\n",
      "n_estimators= 10, RMSE=0.460\n",
      "n_estimators= 20, RMSE=0.446\n",
      "n_estimators= 30, RMSE=0.440\n",
      "n_estimators= 40, RMSE=0.438\n",
      "n_estimators= 50, RMSE=0.437\n",
      "n_estimators= 60, RMSE=0.436\n",
      "n_estimators= 70, RMSE=0.436\n",
      "n_estimators= 80, RMSE=0.436\n",
      "n_estimators= 90, RMSE=0.435\n",
      "n_estimators=100, RMSE=0.435\n",
      "n_estimators=110, RMSE=0.435\n",
      "n_estimators=120, RMSE=0.435\n",
      "n_estimators=130, RMSE=0.435\n",
      "n_estimators=140, RMSE=0.435\n",
      "n_estimators=150, RMSE=0.435\n",
      "n_estimators=160, RMSE=0.435\n",
      "n_estimators=170, RMSE=0.435\n",
      "n_estimators=180, RMSE=0.435\n",
      "n_estimators=190, RMSE=0.435\n",
      "n_estimators=200, RMSE=0.435\n"
     ]
    }
   ],
   "source": [
    "from sklearn.ensemble import RandomForestRegressor\n",
    "from sklearn.metrics import mean_squared_error\n",
    "\n",
    "rmse_scores = []\n",
    "n_estimators_values = []\n",
    "\n",
    "print(\"n_estimators values:\")\n",
    "print(\"-\" * 50)\n",
    "\n",
    "for n in range(10, 201, 10):\n",
    "    # Train Random Forest\n",
    "    rf = RandomForestRegressor(\n",
    "        n_estimators=n,\n",
    "        random_state=1,\n",
    "        n_jobs=-1\n",
    "    )\n",
    "    rf.fit(X_train, y_train_full)\n",
    "    \n",
    "    # Predict and calculate RMSE\n",
    "    y_pred = rf.predict(X_val)\n",
    "    rmse = np.sqrt(mean_squared_error(y_val, y_pred))\n",
    "    \n",
    "    # Store results (rounded to 3 decimal places)\n",
    "    rmse_scores.append(round(rmse, 3))\n",
    "    n_estimators_values.append(n)\n",
    "    \n",
    "    print(f\"n_estimators={n:3d}, RMSE={rmse:.3f}\")"
   ]
  },
  {
   "cell_type": "markdown",
   "id": "4612f863-ae98-4ab0-a580-0e756592b4e4",
   "metadata": {},
   "source": [
    "#### Question 4"
   ]
  },
  {
   "cell_type": "code",
   "execution_count": 18,
   "id": "bbee4f85-4c24-4692-a945-5ba9cf80723f",
   "metadata": {},
   "outputs": [
    {
     "name": "stdout",
     "output_type": "stream",
     "text": [
      "max_depth=10, Mean RMSE=0.4362\n",
      "max_depth=15, Mean RMSE=0.4378\n",
      "max_depth=20, Mean RMSE=0.4377\n",
      "max_depth=25, Mean RMSE=0.4377\n",
      "\n",
      "Best max_depth: 10\n"
     ]
    }
   ],
   "source": [
    "max_depths = [10, 15, 20, 25]\n",
    "results = {}\n",
    "\n",
    "for depth in max_depths:\n",
    "    rmse_list = []\n",
    "    \n",
    "    for n in range(10, 201, 10):\n",
    "        rf = RandomForestRegressor(\n",
    "            n_estimators=n,\n",
    "            max_depth=depth,\n",
    "            random_state=1,\n",
    "            n_jobs=-1\n",
    "        )\n",
    "        rf.fit(X_train, y_train_full)\n",
    "        y_pred = rf.predict(X_val)\n",
    "        rmse = np.sqrt(mean_squared_error(y_val, y_pred))\n",
    "        rmse_list.append(rmse)\n",
    "    \n",
    "    mean_rmse = np.mean(rmse_list)\n",
    "    results[depth] = mean_rmse\n",
    "    print(f\"max_depth={depth}, Mean RMSE={mean_rmse:.4f}\")\n",
    "\n",
    "best_depth = min(results, key=results.get)\n",
    "print(f\"\\nvest max_depth: {best_depth}\")"
   ]
  },
  {
   "cell_type": "markdown",
   "id": "69a390db-0c5d-4958-ae5e-7c979b806350",
   "metadata": {},
   "source": [
    "#### Question 5"
   ]
  },
  {
   "cell_type": "code",
   "execution_count": 14,
   "id": "e5456522-b82c-4167-96c6-08ca6b81cb78",
   "metadata": {},
   "outputs": [
    {
     "name": "stdout",
     "output_type": "stream",
     "text": [
      "                feature  importance\n",
      "13       vehicle_weight    0.959878\n",
      "6            horsepower    0.015933\n",
      "0          acceleration    0.011442\n",
      "3   engine_displacement    0.003159\n",
      "7            model_year    0.003066\n",
      "8         num_cylinders    0.002323\n",
      "9             num_doors    0.001576\n",
      "12           origin=USA    0.000496\n",
      "10          origin=Asia    0.000431\n",
      "11        origin=Europe    0.000419\n",
      "vehicle_weight: 0.9599\n",
      "horsepower: 0.0159\n",
      "acceleration: 0.0114\n",
      "engine_displacement: 0.0032\n"
     ]
    }
   ],
   "source": [
    "rf = RandomForestRegressor(\n",
    "    n_estimators=10,\n",
    "    max_depth=20,\n",
    "    random_state=1,\n",
    "    n_jobs=-1\n",
    ")\n",
    "rf.fit(X_train, y_train_full)\n",
    "\n",
    "feature_importance = rf.feature_importances_\n",
    "feature_names = dv.feature_names_\n",
    "\n",
    "importance_df = pd.DataFrame({\n",
    "    'feature': feature_names,\n",
    "    'importance': feature_importance\n",
    "}).sort_values('importance', ascending=False)\n",
    "\n",
    "print(importance_df.head(10))\n",
    "\n",
    "features_to_check = ['vehicle_weight', 'horsepower', \n",
    "                      'acceleration', 'engine_displacement']\n",
    "for feat in features_to_check:\n",
    "    idx = feature_names.index(feat)\n",
    "    print(f\"{feat}: {feature_importance[idx]:.4f}\")"
   ]
  },
  {
   "cell_type": "markdown",
   "id": "c52bc449-664d-491b-9b61-ee1a7beba44b",
   "metadata": {},
   "source": [
    "#### Question 6"
   ]
  },
  {
   "cell_type": "code",
   "execution_count": 16,
   "id": "cfc8ac95-c1b0-4ac7-8f05-579bcc9cb46b",
   "metadata": {},
   "outputs": [
    {
     "name": "stdout",
     "output_type": "stream",
     "text": [
      "[0]\ttrain-rmse:1.83282\tval-rmse:1.82567\n",
      "[10]\ttrain-rmse:0.37400\tval-rmse:0.43004\n",
      "[20]\ttrain-rmse:0.33724\tval-rmse:0.42509\n",
      "[30]\ttrain-rmse:0.31757\tval-rmse:0.42754\n",
      "[40]\ttrain-rmse:0.29886\tval-rmse:0.43086\n",
      "[50]\ttrain-rmse:0.28277\tval-rmse:0.43405\n",
      "[60]\ttrain-rmse:0.26525\tval-rmse:0.43583\n",
      "[64]\ttrain-rmse:0.25800\tval-rmse:0.43643\n",
      "[0]\ttrain-rmse:2.31334\tval-rmse:2.30592\n",
      "[10]\ttrain-rmse:0.91846\tval-rmse:0.92183\n",
      "[20]\ttrain-rmse:0.49316\tval-rmse:0.52039\n",
      "[30]\ttrain-rmse:0.38552\tval-rmse:0.43528\n",
      "[40]\ttrain-rmse:0.35546\tval-rmse:0.41889\n",
      "[50]\ttrain-rmse:0.34115\tval-rmse:0.41644\n",
      "[60]\ttrain-rmse:0.33254\tval-rmse:0.41610\n",
      "[70]\ttrain-rmse:0.32553\tval-rmse:0.41617\n",
      "[80]\ttrain-rmse:0.32012\tval-rmse:0.41654\n",
      "[90]\ttrain-rmse:0.31718\tval-rmse:0.41654\n",
      "[100]\ttrain-rmse:0.31114\tval-rmse:0.41693\n",
      "[110]\ttrain-rmse:0.30496\tval-rmse:0.41810\n",
      "[118]\ttrain-rmse:0.30032\tval-rmse:0.41858\n",
      "eta=0.3 RMSE: 0.4244959963107532\n",
      "eta=0.1 RMSE: 0.4158992988437659\n",
      "Best iters: 15 69\n"
     ]
    }
   ],
   "source": [
    "watchlist = [(dtrain, 'train'), (dval, 'val')]\n",
    "\n",
    "params = {\n",
    "    'eta': 0.3,\n",
    "    'max_depth': 6,\n",
    "    'min_child_weight': 1,\n",
    "    'objective': 'reg:squarederror',\n",
    "    'nthread': 8,\n",
    "    'seed': 1,\n",
    "    'verbosity': 1,\n",
    "    'eval_metric': 'rmse',  \n",
    "}\n",
    "\n",
    "model_03 = xgb.train(\n",
    "    params,\n",
    "    dtrain,\n",
    "    num_boost_round=1000,\n",
    "    evals=watchlist,\n",
    "    early_stopping_rounds=50,  \n",
    "    verbose_eval=10\n",
    ")\n",
    "\n",
    "params_01 = dict(params, eta=0.1)\n",
    "model_01 = xgb.train(\n",
    "    params_01,\n",
    "    dtrain,\n",
    "    num_boost_round=1000,\n",
    "    evals=watchlist,\n",
    "    early_stopping_rounds=50,\n",
    "    verbose_eval=10\n",
    ")\n",
    "\n",
    "print(\"eta=0.3 RMSE:\", model_03.best_score)      \n",
    "print(\"eta=0.1 RMSE:\", model_01.best_score)\n",
    "print(\"Best iters:\", model_03.best_iteration, model_01.best_iteration)"
   ]
  }
 ],
 "metadata": {
  "kernelspec": {
   "display_name": "Python 3 (ipykernel)",
   "language": "python",
   "name": "python3"
  },
  "language_info": {
   "codemirror_mode": {
    "name": "ipython",
    "version": 3
   },
   "file_extension": ".py",
   "mimetype": "text/x-python",
   "name": "python",
   "nbconvert_exporter": "python",
   "pygments_lexer": "ipython3",
   "version": "3.13.2"
  }
 },
 "nbformat": 4,
 "nbformat_minor": 5
}
