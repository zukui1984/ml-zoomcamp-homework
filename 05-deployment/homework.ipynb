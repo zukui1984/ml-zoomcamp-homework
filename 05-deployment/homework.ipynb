{
 "cells": [
  {
   "cell_type": "markdown",
   "id": "539a6c25-50f0-4e29-a175-378377ef2175",
   "metadata": {},
   "source": [
    "#### Question 1: Which uv version"
   ]
  },
  {
   "cell_type": "markdown",
   "id": "9905f905-4550-4092-a5eb-22a4aed521ee",
   "metadata": {},
   "source": [
    "###### Install uv\n",
    "pip install uv\n",
    "\n",
    "###### Check version\n",
    "uv --version"
   ]
  },
  {
   "cell_type": "markdown",
   "id": "e5565558-bd24-4886-a13e-b70ba8464702",
   "metadata": {},
   "source": [
    "#### Question 2"
   ]
  },
  {
   "cell_type": "code",
   "execution_count": 5,
   "id": "a07ac1ad-88a0-46d1-8385-45cef8e4e06c",
   "metadata": {},
   "outputs": [
    {
     "ename": "SyntaxError",
     "evalue": "unterminated string literal (detected at line 2) (1155512376.py, line 2)",
     "output_type": "error",
     "traceback": [
      "  \u001b[36mCell\u001b[39m\u001b[36m \u001b[39m\u001b[32mIn[5]\u001b[39m\u001b[32m, line 2\u001b[39m\n\u001b[31m    \u001b[39m\u001b[31mWhat's the first hash for Scikit-Learn you get in the lock file?\u001b[39m\n        ^\n\u001b[31mSyntaxError\u001b[39m\u001b[31m:\u001b[39m unterminated string literal (detected at line 2)\n"
     ]
    }
   ],
   "source": [
    "Use uv to install Scikit-Learn version 1.6.1\n",
    "What's the first hash for Scikit-Learn you get in the lock file?\n",
    "Include the entire string starting with sha256:, don't include quotes\n",
    "\n",
    "#### ANSWER #####\n",
    "\n",
    "# Initialize uv project\n",
    "uv init\n",
    "\n",
    "# Remove the default file\n",
    "rm hello.py  # or rm main.py depending on your uv version\n",
    "\n",
    "# Install Scikit-Learn 1.6.1\n",
    "uv add scikit-learn==1.6.1"
   ]
  },
  {
   "cell_type": "markdown",
   "id": "f29a0bcb-e7d5-4414-99c3-3861b300055d",
   "metadata": {},
   "source": [
    "#### Question 3: Lead Score"
   ]
  },
  {
   "cell_type": "code",
   "execution_count": null,
   "id": "fe58fc0e-40aa-4bce-86bb-62b500899134",
   "metadata": {},
   "outputs": [],
   "source": [
    "###### Download the model\n",
    "# wget https://github.com/DataTalksClub/machine-learning-zoomcamp/raw/refs/heads/master/cohorts/2025/05-deployment/pipeline_v1.bin\n",
    "\n",
    "###### Verify checksum\n",
    "md5sum pipeline_v1.bin\n",
    "Should show: 7d17d2e4dfbaf1e408e1a62e6e880d49\n",
    "\n",
    "{\n",
    "    \"lead_source\": \"paid_ads\",\n",
    "    \"number_of_courses_viewed\": 2,\n",
    "    \"annual_income\": 79276.0\n",
    "}"
   ]
  },
  {
   "cell_type": "markdown",
   "id": "02a5dddc-cccb-41e7-b54a-27c7fb00e152",
   "metadata": {},
   "source": [
    "##### Question 4"
   ]
  },
  {
   "cell_type": "code",
   "execution_count": null,
   "id": "518f7e7e-7587-4620-b4d0-64a3dd05f1d4",
   "metadata": {},
   "outputs": [],
   "source": []
  },
  {
   "cell_type": "markdown",
   "id": "a491a6fb-641d-491f-b31a-69b2ac653fa7",
   "metadata": {},
   "source": [
    "##### Question 5"
   ]
  },
  {
   "cell_type": "code",
   "execution_count": null,
   "id": "d2f90b0f-7399-46bf-a974-6f7882b885f7",
   "metadata": {},
   "outputs": [],
   "source": []
  },
  {
   "cell_type": "markdown",
   "id": "27237ec4-a616-40a1-9cb4-c1ac99820367",
   "metadata": {},
   "source": [
    "##### Question 6"
   ]
  },
  {
   "cell_type": "code",
   "execution_count": null,
   "id": "865fbb55-030f-41f3-9d9b-0176cb9a0cbb",
   "metadata": {},
   "outputs": [],
   "source": []
  }
 ],
 "metadata": {
  "kernelspec": {
   "display_name": "Python 3 (ipykernel)",
   "language": "python",
   "name": "python3"
  },
  "language_info": {
   "codemirror_mode": {
    "name": "ipython",
    "version": 3
   },
   "file_extension": ".py",
   "mimetype": "text/x-python",
   "name": "python",
   "nbconvert_exporter": "python",
   "pygments_lexer": "ipython3",
   "version": "3.13.2"
  }
 },
 "nbformat": 4,
 "nbformat_minor": 5
}
