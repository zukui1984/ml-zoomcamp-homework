{
 "cells": [
  {
   "cell_type": "code",
   "execution_count": 55,
   "id": "dbcf55fa-0b25-4c70-a8f0-53afc56821e7",
   "metadata": {},
   "outputs": [],
   "source": [
    "import pandas as pd\n",
    "import numpy as np\n",
    "from sklearn.model_selection import train_test_split\n",
    "from sklearn.feature_extraction import DictVectorizer\n",
    "from sklearn.linear_model import LogisticRegression\n",
    "from sklearn.metrics import mutual_info_score"
   ]
  },
  {
   "cell_type": "code",
   "execution_count": 56,
   "id": "6ca9cc34-bf55-4184-a15a-7c015083554a",
   "metadata": {},
   "outputs": [
    {
     "name": "stdout",
     "output_type": "stream",
     "text": [
      "(1462, 9)\n"
     ]
    },
    {
     "data": {
      "text/html": [
       "<div>\n",
       "<style scoped>\n",
       "    .dataframe tbody tr th:only-of-type {\n",
       "        vertical-align: middle;\n",
       "    }\n",
       "\n",
       "    .dataframe tbody tr th {\n",
       "        vertical-align: top;\n",
       "    }\n",
       "\n",
       "    .dataframe thead th {\n",
       "        text-align: right;\n",
       "    }\n",
       "</style>\n",
       "<table border=\"1\" class=\"dataframe\">\n",
       "  <thead>\n",
       "    <tr style=\"text-align: right;\">\n",
       "      <th></th>\n",
       "      <th>lead_source</th>\n",
       "      <th>industry</th>\n",
       "      <th>number_of_courses_viewed</th>\n",
       "      <th>annual_income</th>\n",
       "      <th>employment_status</th>\n",
       "      <th>location</th>\n",
       "      <th>interaction_count</th>\n",
       "      <th>lead_score</th>\n",
       "      <th>converted</th>\n",
       "    </tr>\n",
       "  </thead>\n",
       "  <tbody>\n",
       "    <tr>\n",
       "      <th>0</th>\n",
       "      <td>paid_ads</td>\n",
       "      <td>NaN</td>\n",
       "      <td>1</td>\n",
       "      <td>79450.0</td>\n",
       "      <td>unemployed</td>\n",
       "      <td>south_america</td>\n",
       "      <td>4</td>\n",
       "      <td>0.94</td>\n",
       "      <td>1</td>\n",
       "    </tr>\n",
       "    <tr>\n",
       "      <th>1</th>\n",
       "      <td>social_media</td>\n",
       "      <td>retail</td>\n",
       "      <td>1</td>\n",
       "      <td>46992.0</td>\n",
       "      <td>employed</td>\n",
       "      <td>south_america</td>\n",
       "      <td>1</td>\n",
       "      <td>0.80</td>\n",
       "      <td>0</td>\n",
       "    </tr>\n",
       "    <tr>\n",
       "      <th>2</th>\n",
       "      <td>events</td>\n",
       "      <td>healthcare</td>\n",
       "      <td>5</td>\n",
       "      <td>78796.0</td>\n",
       "      <td>unemployed</td>\n",
       "      <td>australia</td>\n",
       "      <td>3</td>\n",
       "      <td>0.69</td>\n",
       "      <td>1</td>\n",
       "    </tr>\n",
       "    <tr>\n",
       "      <th>3</th>\n",
       "      <td>paid_ads</td>\n",
       "      <td>retail</td>\n",
       "      <td>2</td>\n",
       "      <td>83843.0</td>\n",
       "      <td>NaN</td>\n",
       "      <td>australia</td>\n",
       "      <td>1</td>\n",
       "      <td>0.87</td>\n",
       "      <td>0</td>\n",
       "    </tr>\n",
       "    <tr>\n",
       "      <th>4</th>\n",
       "      <td>referral</td>\n",
       "      <td>education</td>\n",
       "      <td>3</td>\n",
       "      <td>85012.0</td>\n",
       "      <td>self_employed</td>\n",
       "      <td>europe</td>\n",
       "      <td>3</td>\n",
       "      <td>0.62</td>\n",
       "      <td>1</td>\n",
       "    </tr>\n",
       "  </tbody>\n",
       "</table>\n",
       "</div>"
      ],
      "text/plain": [
       "    lead_source    industry  number_of_courses_viewed  annual_income  \\\n",
       "0      paid_ads         NaN                         1        79450.0   \n",
       "1  social_media      retail                         1        46992.0   \n",
       "2        events  healthcare                         5        78796.0   \n",
       "3      paid_ads      retail                         2        83843.0   \n",
       "4      referral   education                         3        85012.0   \n",
       "\n",
       "  employment_status       location  interaction_count  lead_score  converted  \n",
       "0        unemployed  south_america                  4        0.94          1  \n",
       "1          employed  south_america                  1        0.80          0  \n",
       "2        unemployed      australia                  3        0.69          1  \n",
       "3               NaN      australia                  1        0.87          0  \n",
       "4     self_employed         europe                  3        0.62          1  "
      ]
     },
     "execution_count": 56,
     "metadata": {},
     "output_type": "execute_result"
    }
   ],
   "source": [
    "df = pd.read_csv('https://raw.githubusercontent.com/alexeygrigorev/datasets/master/course_lead_scoring.csv')\n",
    "print(df.shape)\n",
    "df.head()"
   ]
  },
  {
   "cell_type": "code",
   "execution_count": 57,
   "id": "c4149de3-d3c6-4c37-bc6a-0568516ac668",
   "metadata": {},
   "outputs": [
    {
     "name": "stdout",
     "output_type": "stream",
     "text": [
      "<class 'pandas.core.frame.DataFrame'>\n",
      "RangeIndex: 1462 entries, 0 to 1461\n",
      "Data columns (total 9 columns):\n",
      " #   Column                    Non-Null Count  Dtype  \n",
      "---  ------                    --------------  -----  \n",
      " 0   lead_source               1334 non-null   object \n",
      " 1   industry                  1328 non-null   object \n",
      " 2   number_of_courses_viewed  1462 non-null   int64  \n",
      " 3   annual_income             1281 non-null   float64\n",
      " 4   employment_status         1362 non-null   object \n",
      " 5   location                  1399 non-null   object \n",
      " 6   interaction_count         1462 non-null   int64  \n",
      " 7   lead_score                1462 non-null   float64\n",
      " 8   converted                 1462 non-null   int64  \n",
      "dtypes: float64(2), int64(3), object(4)\n",
      "memory usage: 102.9+ KB\n"
     ]
    }
   ],
   "source": [
    "df.info()"
   ]
  },
  {
   "cell_type": "markdown",
   "id": "3f6e6526-9880-4e8f-9027-8bb2e7ad7a60",
   "metadata": {},
   "source": [
    "#### Data Preparation"
   ]
  },
  {
   "cell_type": "code",
   "execution_count": 58,
   "id": "8b92c90e-be65-473d-919e-3ae5ce1eecc7",
   "metadata": {},
   "outputs": [
    {
     "name": "stdout",
     "output_type": "stream",
     "text": [
      "lead_source                 128\n",
      "industry                    134\n",
      "number_of_courses_viewed      0\n",
      "annual_income               181\n",
      "employment_status           100\n",
      "location                     63\n",
      "interaction_count             0\n",
      "lead_score                    0\n",
      "converted                     0\n",
      "dtype: int64\n"
     ]
    }
   ],
   "source": [
    "# Check missing values\n",
    "print(df.isnull().sum())"
   ]
  },
  {
   "cell_type": "code",
   "execution_count": 59,
   "id": "bd631531-3684-48a6-a96a-67bb0d4e047b",
   "metadata": {},
   "outputs": [],
   "source": [
    "numerical = ['interaction_count', 'lead_score', 'number_of_courses_viewed', 'annual_income']\n",
    "categorical = ['industry', 'location', 'lead_source', 'employment_status']\n",
    "\n",
    "## Fill missing values \n",
    "# Categorical NA\n",
    "for col in categorical:\n",
    "    df[col] = df[col].fillna('NA')\n",
    "\n",
    "# Numerical 0.0\n",
    "for col in numerical:\n",
    "    df[col] = df[col].fillna(0.0)"
   ]
  },
  {
   "cell_type": "code",
   "execution_count": 60,
   "id": "c17033ad-a1f5-4dd5-8b56-e81419bc5f27",
   "metadata": {},
   "outputs": [
    {
     "name": "stdout",
     "output_type": "stream",
     "text": [
      "lead_source                 0\n",
      "industry                    0\n",
      "number_of_courses_viewed    0\n",
      "annual_income               0\n",
      "employment_status           0\n",
      "location                    0\n",
      "interaction_count           0\n",
      "lead_score                  0\n",
      "converted                   0\n",
      "dtype: int64\n"
     ]
    }
   ],
   "source": [
    "print(df.isnull().sum())"
   ]
  },
  {
   "cell_type": "markdown",
   "id": "b2527967-6a55-4de6-bf93-8754487343d7",
   "metadata": {},
   "source": [
    "### Question 1 - Mode industry"
   ]
  },
  {
   "cell_type": "code",
   "execution_count": 61,
   "id": "8b4210e4-b016-4f6e-9020-d50826981e08",
   "metadata": {},
   "outputs": [
    {
     "name": "stdout",
     "output_type": "stream",
     "text": [
      "Mode: retail\n",
      "industry\n",
      "retail           203\n",
      "finance          200\n",
      "other            198\n",
      "healthcare       187\n",
      "education        187\n",
      "technology       179\n",
      "manufacturing    174\n",
      "NA               134\n",
      "Name: count, dtype: int64\n"
     ]
    }
   ],
   "source": [
    "industry_mode = df['industry'].mode()[0]\n",
    "print(f\"Mode: {industry_mode}\")\n",
    "\n",
    "# Verify with value counts\n",
    "print(df['industry'].value_counts())"
   ]
  },
  {
   "cell_type": "markdown",
   "id": "a5250b90-e269-4627-b580-86a87e652e3e",
   "metadata": {},
   "source": [
    "### Question 2 - Correlation"
   ]
  },
  {
   "cell_type": "code",
   "execution_count": 62,
   "id": "0ac3b4a9-1e9b-4e72-b125-18ddade19e0e",
   "metadata": {},
   "outputs": [
    {
     "name": "stdout",
     "output_type": "stream",
     "text": [
      "                          interaction_count  lead_score  \\\n",
      "interaction_count                  1.000000    0.009888   \n",
      "lead_score                         0.009888    1.000000   \n",
      "number_of_courses_viewed          -0.023565   -0.004879   \n",
      "annual_income                      0.027036    0.015610   \n",
      "\n",
      "                          number_of_courses_viewed  annual_income  \n",
      "interaction_count                        -0.023565       0.027036  \n",
      "lead_score                               -0.004879       0.015610  \n",
      "number_of_courses_viewed                  1.000000       0.009770  \n",
      "annual_income                             0.009770       1.000000  \n",
      "interaction_count & lead_score: 0.010\n",
      "number_of_courses_viewed & lead_score: -0.005\n",
      "number_of_courses_viewed & interaction_count: -0.024\n",
      "annual_income & interaction_count: 0.027\n"
     ]
    }
   ],
   "source": [
    "# Correlation for numerical features\n",
    "numerical = ['interaction_count', 'lead_score', 'number_of_courses_viewed', 'annual_income']\n",
    "\n",
    "corr_num = df[numerical].corr()\n",
    "print(corr_num)\n",
    "\n",
    "print(f\"interaction_count & lead_score: {corr_num.loc['interaction_count', 'lead_score']:.3f}\")\n",
    "print(f\"number_of_courses_viewed & lead_score: {corr_num.loc['number_of_courses_viewed', 'lead_score']:.3f}\")\n",
    "print(f\"number_of_courses_viewed & interaction_count: {corr_num.loc['number_of_courses_viewed', 'interaction_count']:.3f}\")\n",
    "print(f\"annual_income & interaction_count: {corr_num.loc['annual_income', 'interaction_count']:.3f}\")"
   ]
  },
  {
   "cell_type": "markdown",
   "id": "23480307-e708-4dcc-99de-335655c6707c",
   "metadata": {},
   "source": [
    "#### Data Split 60%/20%/20%"
   ]
  },
  {
   "cell_type": "code",
   "execution_count": 63,
   "id": "9b8fd14c-37c2-4615-aff2-207505ce0acc",
   "metadata": {},
   "outputs": [
    {
     "name": "stdout",
     "output_type": "stream",
     "text": [
      "Train size: 876 (59.9%)\n",
      "Validation size: 293 (20.0%)\n",
      "Test size: 293 (20.0%)\n"
     ]
    }
   ],
   "source": [
    "# First: 80% (full_train), 20% (test), seed=42\n",
    "df_full_train, df_test = train_test_split(df, test_size=0.2, random_state=42)\n",
    "\n",
    "# Second: split 80% into 60% (train) and 20% (val)\n",
    "# 0.25 * 0.8 = 0.2\n",
    "df_train, df_val = train_test_split(df_full_train, test_size=0.25, random_state=42)\n",
    "\n",
    "print(f\"Train size: {len(df_train)} ({len(df_train)/len(df)*100:.1f}%)\")\n",
    "print(f\"Validation size: {len(df_val)} ({len(df_val)/len(df)*100:.1f}%)\")\n",
    "print(f\"Test size: {len(df_test)} ({len(df_test)/len(df)*100:.1f}%)\")\n",
    "\n",
    "# Extract target\n",
    "y_train = df_train['converted'].values\n",
    "y_val = df_val['converted'].values\n",
    "y_test = df_test['converted'].values\n",
    "\n",
    "# Remove 'converted'\n",
    "del df_train['converted']\n",
    "del df_val['converted']\n",
    "del df_test['converted']"
   ]
  },
  {
   "cell_type": "markdown",
   "id": "4b9c8dbb-2115-4c2a-b935-5e56a486c15b",
   "metadata": {},
   "source": [
    "### Question 3 - Mutual Information"
   ]
  },
  {
   "cell_type": "code",
   "execution_count": 64,
   "id": "ece34712-a39a-45c2-bfb2-3eaf7c34419e",
   "metadata": {},
   "outputs": [
    {
     "name": "stdout",
     "output_type": "stream",
     "text": [
      "industry: 0.01\n",
      "location: 0.0\n",
      "lead_source: 0.04\n",
      "employment_status: 0.01\n"
     ]
    }
   ],
   "source": [
    "# Categorical list\n",
    "categorical = ['industry', 'location', 'lead_source', 'employment_status']\n",
    "\n",
    "mi_scores = {}\n",
    "for cat in categorical:\n",
    "    mi = mutual_info_score(df_train[cat], y_train)\n",
    "    mi_scores[cat] = round(mi, 2)\n",
    "    print(f\"{cat}: {mi_scores[cat]}\")"
   ]
  },
  {
   "cell_type": "markdown",
   "id": "4f33395c-ad6d-4eef-b48e-1e4ab0ed93ac",
   "metadata": {},
   "source": [
    "### Question 4 - Logistic Regression + One Hot Encoding"
   ]
  },
  {
   "cell_type": "code",
   "execution_count": 65,
   "id": "38b4603b-0a7e-4429-abea-7eac4c681a10",
   "metadata": {},
   "outputs": [
    {
     "data": {
      "text/plain": [
       "0.7"
      ]
     },
     "execution_count": 65,
     "metadata": {},
     "output_type": "execute_result"
    }
   ],
   "source": [
    "# One-hot encoding\n",
    "dv = DictVectorizer(sparse=False)\n",
    "\n",
    "# Convert to dictionaries\n",
    "train_dict = df_train[categorical + numerical].to_dict(orient='records')\n",
    "val_dict = df_val[categorical + numerical].to_dict(orient='records')\n",
    "\n",
    "# Transform\n",
    "X_train = dv.fit_transform(train_dict)\n",
    "X_val = dv.transform(val_dict)\n",
    "\n",
    "# Train logistic regression\n",
    "model = LogisticRegression(solver='liblinear', C=1.0, max_iter=1000, random_state=42)\n",
    "model.fit(X_train, y_train)\n",
    "\n",
    "# Make predictions on validation set\n",
    "y_pred = model.predict(X_val)\n",
    "\n",
    "# Calculate accuracy\n",
    "accuracy = (y_pred == y_val).mean()\n",
    "accuracy_rounded = round(accuracy, 2)\n",
    "float(accuracy_rounded)"
   ]
  },
  {
   "cell_type": "markdown",
   "id": "870732cc-8499-46d8-8782-8f363cab96e8",
   "metadata": {},
   "source": [
    "### Question 5 - Feature Elimination"
   ]
  },
  {
   "cell_type": "code",
   "execution_count": 66,
   "id": "d2ad6769-aa24-42b6-9d39-1c48aa4b5744",
   "metadata": {},
   "outputs": [
    {
     "name": "stdout",
     "output_type": "stream",
     "text": [
      "industry                 : +0.0000\n",
      "employment_status        : +0.0034\n",
      "lead_score               : -0.0068\n"
     ]
    }
   ],
   "source": [
    "# Accuracy result from question 4\n",
    "baseline_accuracy = accuracy\n",
    "\n",
    "# Define features \n",
    "features_test = ['industry', 'employment_status', 'lead_score']\n",
    "\n",
    "# Store differences\n",
    "differences = {}\n",
    "\n",
    "# Test each feature\n",
    "for feature in features_test:  \n",
    "    # Create list\n",
    "    features_without_current = [f for f in (categorical + numerical) if f != feature]\n",
    "    \n",
    "    # Training\n",
    "    train_dict_reduced = df_train[features_without_current].to_dict(orient='records')\n",
    "    val_dict_reduced = df_val[features_without_current].to_dict(orient='records')\n",
    "    \n",
    "    # DictVectorizer + transform\n",
    "    dv_reduced = DictVectorizer(sparse=False)\n",
    "    X_train_reduced = dv_reduced.fit_transform(train_dict_reduced)\n",
    "    X_val_reduced = dv_reduced.transform(val_dict_reduced)\n",
    "    \n",
    "    # Train model\n",
    "    model_reduced = LogisticRegression(solver='liblinear', C=1.0, max_iter=1000, random_state=42)\n",
    "    model_reduced.fit(X_train_reduced, y_train)\n",
    "    \n",
    "    # Predictions on validation set\n",
    "    y_pred_reduced = model_reduced.predict(X_val_reduced)\n",
    "    accuracy_reduced = (y_pred_reduced == y_val).mean()\n",
    "    \n",
    "    # Calculate difference\n",
    "    diff = baseline_accuracy - accuracy_reduced\n",
    "    differences[feature] = diff\n",
    "\n",
    "# Find differences\n",
    "for feature, diff in differences.items():\n",
    "    print(f\"{feature:25s}: {diff:+.4f}\")"
   ]
  },
  {
   "cell_type": "markdown",
   "id": "cbf075fb-9349-4ec0-972d-26d1607f0483",
   "metadata": {},
   "source": [
    "#### Question 6 - Regularized Logistic Regression"
   ]
  },
  {
   "cell_type": "code",
   "execution_count": 68,
   "id": "6305d524-2acf-4aa3-8884-e0c6440fdde7",
   "metadata": {},
   "outputs": [
    {
     "name": "stdout",
     "output_type": "stream",
     "text": [
      "C=  0.01 → Accuracy=0.6997 (rounded: 0.7)\n",
      "C=  0.10 → Accuracy=0.6997 (rounded: 0.7)\n",
      "C=  1.00 → Accuracy=0.6997 (rounded: 0.7)\n",
      "C= 10.00 → Accuracy=0.6997 (rounded: 0.7)\n",
      "C=100.00 → Accuracy=0.6997 (rounded: 0.7)\n"
     ]
    }
   ],
   "source": [
    "# Value list\n",
    "C_values = [0.01, 0.1, 1, 10, 100]\n",
    "results = {}\n",
    "\n",
    "for C in C_values:\n",
    "    # Train \n",
    "    model_c = LogisticRegression(solver='liblinear', C=C,max_iter=1000, random_state=42)\n",
    "    model_c.fit(X_train, y_train)\n",
    "    \n",
    "    # Validation\n",
    "    y_pred_c = model_c.predict(X_val)\n",
    "    acc = (y_pred_c == y_val).mean()\n",
    "    results[C] = round(acc, 3)  # Round to 3 decimals\n",
    "    \n",
    "    print(f\"C={C:6.2f} → Accuracy={acc:.4f} (rounded: {round(acc, 2)})\")\n",
    "\n",
    "# Best C\n",
    "best_accuracy = max(results.values())\n",
    "best_C = min([c for c, acc in results.items() if acc == best_accuracy])"
   ]
  }
 ],
 "metadata": {
  "kernelspec": {
   "display_name": "Python 3 (ipykernel)",
   "language": "python",
   "name": "python3"
  },
  "language_info": {
   "codemirror_mode": {
    "name": "ipython",
    "version": 3
   },
   "file_extension": ".py",
   "mimetype": "text/x-python",
   "name": "python",
   "nbconvert_exporter": "python",
   "pygments_lexer": "ipython3",
   "version": "3.13.2"
  }
 },
 "nbformat": 4,
 "nbformat_minor": 5
}
